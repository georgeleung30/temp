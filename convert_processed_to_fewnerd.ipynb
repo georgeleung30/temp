{
 "cells": [
  {
   "cell_type": "code",
   "execution_count": 7,
   "id": "db95148a-a70c-4803-9bae-b8b9fa2ff139",
   "metadata": {},
   "outputs": [],
   "source": [
    "import pandas as pd\n",
    "import os\n",
    "from tqdm import tqdm"
   ]
  },
  {
   "cell_type": "code",
   "execution_count": 2,
   "id": "00f6b52d-d53d-449c-8b2f-aa3824a5a72e",
   "metadata": {},
   "outputs": [],
   "source": [
    "label2id = {\n",
    "    'O': 0,\n",
    "    'B-Drug': 1,\n",
    "    'B-Strength': 2,\n",
    "    'B-Form': 3,\n",
    "    'B-Dosage': 4,\n",
    "    'B-Duration': 5,\n",
    "    'B-Frequency': 6,\n",
    "    'B-Route': 7,\n",
    "    'B-ADE': 8,\n",
    "    'B-Reason': 9,\n",
    "    'I-Drug': 10,\n",
    "    'I-Strength': 11,\n",
    "    'I-Form': 12,\n",
    "    'I-Dosage': 13,\n",
    "    'I-Duration': 14,\n",
    "    'I-Frequency': 15,\n",
    "    'I-Route': 16,\n",
    "    'I-ADE': 17,\n",
    "    'I-Reason': 18,\n",
    "}\n",
    "id2label = {v: k for k, v in label2id.items()}\n",
    "\n",
    "\n",
    "label_names = list(label2id.keys())"
   ]
  },
  {
   "cell_type": "code",
   "execution_count": 33,
   "id": "a1f2a399-c9ff-4edc-93fd-76881f2fc353",
   "metadata": {},
   "outputs": [],
   "source": [
    "def load_data(input_path):\n",
    "\n",
    "    all_lines = []\n",
    "    \n",
    "    files = [item for item in os.listdir(input_path) if item.endswith('txt')]\n",
    "    for filename in tqdm(files):\n",
    "        file_path = os.path.join(input_path, filename)\n",
    "        with open(file_path,'r') as f:\n",
    "            lines = f.readlines()\n",
    "            all_lines += lines\n",
    "    return all_lines\n",
    "\n",
    "def split_list(input_list):\n",
    "    splitted_list = []\n",
    "    temp_list = []\n",
    "    for item in input_list:\n",
    "        temp_list.append(item)\n",
    "        if item.startswith('.'):\n",
    "            splitted_list.append(temp_list)\n",
    "            temp_list = []\n",
    "    splitted_list.append(temp_list)\n",
    "    return splitted_list"
   ]
  },
  {
   "cell_type": "code",
   "execution_count": 34,
   "id": "ba469e6e-6005-4d9b-b42d-a676257ed1ab",
   "metadata": {},
   "outputs": [
    {
     "name": "stderr",
     "output_type": "stream",
     "text": [
      "100%|██████████████████████████████████████████████████████████████████████████████| 303/303 [00:00<00:00, 2251.43it/s]\n",
      "100%|██████████████████████████████████████████████████████████████████████████████| 202/202 [00:00<00:00, 2314.23it/s]\n",
      "100%|██████████████████████████████████████████████████████████████████████████████| 202/202 [00:00<00:00, 2318.40it/s]\n"
     ]
    }
   ],
   "source": [
    "train_path = \"C:\\\\Users\\\\George\\\\Documents\\\\container_ner\\\\2018_n2c2\\\\data\\\\training_20180910\\\\training_20180910\\\\processed\\\\\"\n",
    "test_path = 'C:\\\\Users\\\\George\\\\Documents\\\\container_ner\\\\2018_n2c2\\\\data\\\\test_data_Task2\\\\test_data_Task2\\\\processed'\n",
    "validation_path = 'C:\\\\Users\\\\George\\\\Documents\\\\container_ner\\\\2018_n2c2\\\\data\\\\gold-standard-test-data\\\\test\\\\processed'\n",
    "\n",
    "train_list = load_data(train_path)\n",
    "test_list = load_data(test_path)\n",
    "val_list = load_data(validation_path)"
   ]
  },
  {
   "cell_type": "code",
   "execution_count": 35,
   "id": "3a4c4dc9-973c-4cac-8f82-9568c745fc62",
   "metadata": {},
   "outputs": [],
   "source": [
    "train_list = split_list(train_list)\n",
    "test_list = split_list(test_list)\n",
    "val_list = split_list(val_list)"
   ]
  },
  {
   "cell_type": "code",
   "execution_count": 37,
   "id": "2b69966a-e294-476f-8cf1-45b654a5f647",
   "metadata": {},
   "outputs": [
    {
     "data": {
      "text/plain": [
       "41565"
      ]
     },
     "execution_count": 37,
     "metadata": {},
     "output_type": "execute_result"
    }
   ],
   "source": [
    "len(train_list)"
   ]
  },
  {
   "cell_type": "code",
   "execution_count": 38,
   "id": "3b554ce7-3c91-4035-b2c6-7808cc87bbde",
   "metadata": {},
   "outputs": [],
   "source": [
    "with open('C:\\\\Users\\\\George\\\\Documents\\\\container_ner\\\\2018_n2c2\\\\few_nerd_format\\\\train.txt', 'w') as f:\n",
    "    for item in train_list:\n",
    "        f.write(''.join(item))\n",
    "        f.write('\\n')"
   ]
  },
  {
   "cell_type": "code",
   "execution_count": 40,
   "id": "8a020053-17e3-4416-86d8-776aa2ffa3e2",
   "metadata": {},
   "outputs": [],
   "source": [
    "with open('C:\\\\Users\\\\George\\\\Documents\\\\container_ner\\\\2018_n2c2\\\\few_nerd_format\\\\test.txt', 'w') as f:\n",
    "    for item in test_list:\n",
    "        f.write(''.join(item))\n",
    "        f.write('\\n')"
   ]
  },
  {
   "cell_type": "code",
   "execution_count": 41,
   "id": "8a339f92-f814-4bcd-a577-a220b353e033",
   "metadata": {},
   "outputs": [],
   "source": [
    "with open('C:\\\\Users\\\\George\\\\Documents\\\\container_ner\\\\2018_n2c2\\\\few_nerd_format\\\\dev.txt', 'w') as f:\n",
    "    for item in val_list:\n",
    "        f.write(''.join(item))\n",
    "        f.write('\\n')"
   ]
  },
  {
   "cell_type": "code",
   "execution_count": null,
   "id": "2ddc8968-92fd-424a-95f7-fb904a5372d4",
   "metadata": {},
   "outputs": [],
   "source": []
  }
 ],
 "metadata": {
  "kernelspec": {
   "display_name": "Python 3 (ipykernel)",
   "language": "python",
   "name": "python3"
  },
  "language_info": {
   "codemirror_mode": {
    "name": "ipython",
    "version": 3
   },
   "file_extension": ".py",
   "mimetype": "text/x-python",
   "name": "python",
   "nbconvert_exporter": "python",
   "pygments_lexer": "ipython3",
   "version": "3.8.16"
  }
 },
 "nbformat": 4,
 "nbformat_minor": 5
}
